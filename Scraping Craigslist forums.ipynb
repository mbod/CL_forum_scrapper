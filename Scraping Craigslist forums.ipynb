{
 "cells": [
  {
   "cell_type": "markdown",
   "metadata": {},
   "source": [
    "## Scraping Craigslist forums\n",
    "\n",
    "* using keywords related to __scams__\n"
   ]
  },
  {
   "cell_type": "code",
   "execution_count": 131,
   "metadata": {
    "collapsed": false
   },
   "outputs": [],
   "source": [
    "import requests\n",
    "from bs4 import BeautifulSoup\n",
    "import re\n",
    "from IPython.display import HTML"
   ]
  },
  {
   "cell_type": "code",
   "execution_count": 1,
   "metadata": {
    "collapsed": true
   },
   "outputs": [],
   "source": [
    "kws = '''Scam, scams, scammed, scamming, scammer, scammers; \n",
    "        fraud, frauds, defrauded, fraudster, fraudsters; \n",
    "        con, cons, conned, conning, con artist, con artists; \n",
    "        trick, tricks, tricked, tricking, trickster, tricksters; \n",
    "        swindle, swindles, swindled, swindler, swindlers'''"
   ]
  },
  {
   "cell_type": "code",
   "execution_count": 47,
   "metadata": {
    "collapsed": false
   },
   "outputs": [],
   "source": [
    "kw_list=[i.lower() for k in kws.strip().split(';') for i in k.strip().split(', ')]"
   ]
  },
  {
   "cell_type": "code",
   "execution_count": 49,
   "metadata": {
    "collapsed": false
   },
   "outputs": [
    {
     "name": "stdout",
     "output_type": "stream",
     "text": [
      "scam OR scams OR scammed OR scamming OR scammer OR scammers OR fraud OR frauds OR defrauded OR fraudster OR fraudsters OR con OR cons OR conned OR conning OR con artist OR con artists OR trick OR tricks OR tricked OR tricking OR trickster OR tricksters OR swindle OR swindles OR swindled OR swindler OR swindlers\n"
     ]
    }
   ],
   "source": [
    "print(' OR '.join(kw_list))"
   ]
  },
  {
   "cell_type": "markdown",
   "metadata": {},
   "source": [
    "### QUESTION: what is the search syntax for the Criagslist forum\n",
    "\n",
    "* using commas? e.g. scam,scams,scamming\n",
    "* boolean? e.g. scam OR scams OR scamming\n",
    "\n",
    "Both return results but it looks like they are doing a logical AND\n",
    "\n",
    "So might need to search each keyword in turn"
   ]
  },
  {
   "cell_type": "code",
   "execution_count": null,
   "metadata": {
    "collapsed": true
   },
   "outputs": [],
   "source": [
    "# search url\n",
    "# https://forums.craigslist.org/?act=searchFrameMaker&SQ=scam%2C+scams%2C+scamming&forumID=8\n",
    "\n",
    "# this will get the frame version of a search\n",
    "# but we want the second row left hand pane which looks like you can get with act=RSR"
   ]
  },
  {
   "cell_type": "code",
   "execution_count": 70,
   "metadata": {
    "collapsed": true
   },
   "outputs": [],
   "source": [
    "url2 = 'https://forums.craigslist.org/?act=RSR&forumID=8&SQ=scam&&resultsPerPage=100'\n",
    "r2=requests.get(url2)\n",
    "s2=BeautifulSoup(r2.text)"
   ]
  },
  {
   "cell_type": "markdown",
   "metadata": {},
   "source": [
    "### Anatomy of the results frame\n",
    "\n",
    "```\n",
    "    <section class=\"searchresults\">\n",
    "        <h1>results for your search for \"...\"</h1>\n",
    "        <div class=\"paginator\">\n",
    "            <div class=\"prev\"></div>\n",
    "            <div class=\"next\"></div>\n",
    "        </div>\n",
    "    \n",
    "        <article class=\"searchresult normal\">\n",
    "        ....\n",
    "        </article>\n",
    "        \n",
    "        ...\n",
    "        <article class=\"searchresult normal\">\n",
    "        </article>\n",
    "        \n",
    "    </section>\n",
    "```"
   ]
  },
  {
   "cell_type": "code",
   "execution_count": 71,
   "metadata": {
    "collapsed": false
   },
   "outputs": [
    {
     "data": {
      "text/plain": [
       "['\\n',\n",
       " <h1>results for your search for \"scam\":</h1>,\n",
       " '\\n',\n",
       " <div class=\"paginator\">\n",
       " <div class=\"prev\"></div><div class=\"next\"> <a href=\"?act=RSR&amp;forumID=8&amp;offset=100&amp;resultsPerPage=100&amp;SQ=scam\">next 100 &gt;&gt;</a>\n",
       " </div></div>,\n",
       " '\\n']"
      ]
     },
     "execution_count": 71,
     "metadata": {},
     "output_type": "execute_result"
    }
   ],
   "source": [
    "results = s2.body.find('section', {'class': 'searchresults'})\n",
    "results.contents[:5]"
   ]
  },
  {
   "cell_type": "code",
   "execution_count": 76,
   "metadata": {
    "collapsed": false
   },
   "outputs": [
    {
     "data": {
      "text/plain": [
       "<div class=\"paginator\">\n",
       "<div class=\"prev\"></div><div class=\"next\"> <a href=\"?act=RSR&amp;forumID=8&amp;offset=100&amp;resultsPerPage=100&amp;SQ=scam\">next 100 &gt;&gt;</a>\n",
       "</div></div>"
      ]
     },
     "execution_count": 76,
     "metadata": {},
     "output_type": "execute_result"
    }
   ],
   "source": [
    "paging = results.find('div', {'class':'paginator'})\n",
    "paging"
   ]
  },
  {
   "cell_type": "code",
   "execution_count": 77,
   "metadata": {
    "collapsed": false
   },
   "outputs": [
    {
     "name": "stdout",
     "output_type": "stream",
     "text": [
      "next page of results is: <a href=\"?act=RSR&amp;forumID=8&amp;offset=100&amp;resultsPerPage=100&amp;SQ=scam\">next 100 &gt;&gt;</a>\n"
     ]
    }
   ],
   "source": [
    "has_next = paging.find('div',{'class': 'next'}).findAll('a')\n",
    "if len(has_next)>0:\n",
    "    print('next page of results is:', has_next[0])"
   ]
  },
  {
   "cell_type": "code",
   "execution_count": 120,
   "metadata": {
    "collapsed": false
   },
   "outputs": [
    {
     "data": {
      "text/plain": [
       "'?act=RSR&forumID=8&offset=100&resultsPerPage=100&SQ=scam'"
      ]
     },
     "execution_count": 120,
     "metadata": {},
     "output_type": "execute_result"
    }
   ],
   "source": [
    "has_next[0].attrs['href']"
   ]
  },
  {
   "cell_type": "code",
   "execution_count": 74,
   "metadata": {
    "collapsed": false
   },
   "outputs": [
    {
     "name": "stdout",
     "output_type": "stream",
     "text": [
      "current page has 100 results for search term\n"
     ]
    }
   ],
   "source": [
    "result_list=results.findAll('article',{'class':'searchresult'})\n",
    "print('current page has {} results for search term'.format(len(result_list)))"
   ]
  },
  {
   "cell_type": "code",
   "execution_count": 79,
   "metadata": {
    "collapsed": false
   },
   "outputs": [
    {
     "data": {
      "text/plain": [
       "<article class=\"searchresult normal\">\n",
       "<header class=\"metadata\"><span class=\"area\"><span class=\"area\" title=\"new haven, CT\">hvn</span></span> <span class=\"title\"><a href=\"?ID=278916777\" target=\"_top\">I wonder what fraction of emails sent there</a></span> &lt; <span class=\"handle hnd\">HelpfulHedda</span> &gt; <span class=\"date\">2017-02-11 09:42</span></header>\n",
       "<p class=\"body\">were appropriate!\n",
       "\n",
       "What's wrong with the contact form?    Just how many \"tools\" does it take to replace a light bulb?   You can even bookmark the popup for a particular form option (save the URL in your browser) to simplify/expedite repeated submissions.Here are the likely appropriate choices on that form page:\n",
       "\n",
       "scams, spam, flagging\n",
       "\n",
       "    Someone is spamming or overposting on craigslist\n",
       "    I encountered a fraudulent posting or a scam on craigslist\n",
       "    I need to report posts that are prohibited, or violate the TOU\n",
       "</p>\n",
       "</article>"
      ]
     },
     "execution_count": 79,
     "metadata": {},
     "output_type": "execute_result"
    }
   ],
   "source": [
    "result_list[2]"
   ]
  },
  {
   "cell_type": "code",
   "execution_count": 80,
   "metadata": {
    "collapsed": false
   },
   "outputs": [
    {
     "name": "stdout",
     "output_type": "stream",
     "text": [
      "<a href=\"?ID=278970264\" target=\"_top\">Dunno where you're at but</a>\n",
      "<a href=\"?ID=278957414\" target=\"_top\">Hollow victory, till rampant scam ads are gone</a>\n",
      "<a href=\"?ID=278916777\" target=\"_top\">I wonder what fraction of emails sent there</a>\n",
      "<a href=\"?ID=278880137\" target=\"_top\">More BULLSHIT!!!</a>\n",
      "<a href=\"?ID=278834210\" target=\"_top\">Suggest limiting number of auto and truck post</a>\n",
      "<a href=\"?ID=278818879\" target=\"_top\">This forum is not for reports about</a>\n",
      "<a href=\"?ID=278818814\" target=\"_top\">You are joking right?</a>\n",
      "<a href=\"?ID=278818653\" target=\"_top\">This forum is for feedback about</a>\n",
      "<a href=\"?ID=278818603\" target=\"_top\">Possible scam</a>\n",
      "<a href=\"?ID=278749985\" target=\"_top\">Here is a start on tracking that down</a>\n",
      "<a href=\"?ID=278742449\" target=\"_top\">Posting other people's phone numbers</a>\n",
      "<a href=\"?ID=278615128\" target=\"_top\">Scam Donald Trump ad not removed</a>\n",
      "<a href=\"?ID=278563635\" target=\"_top\">its because you put your number in the ad</a>\n",
      "<a href=\"?ID=278560686\" target=\"_top\">jamboree scam</a>\n",
      "<a href=\"?ID=278514124\" target=\"_top\">I wonder if CL is fertile ground for scam seeds</a>\n",
      "<a href=\"?ID=278471170\" target=\"_top\">Yes, its a scam. CL sends no such messages. In</a>\n",
      "<a href=\"?ID=278465815\" target=\"_top\">text message</a>\n",
      "<a href=\"?ID=278390716\" target=\"_top\">Suggest limiting to 1 ad per section per account</a>\n",
      "<a href=\"?ID=278389969\" target=\"_top\">The layers of scam on CL go deep.</a>\n",
      "<a href=\"?ID=278387241\" target=\"_top\">fraud/scam report directions are this page...</a>\n",
      "<a href=\"?ID=278218609\" target=\"_top\">Sick of Fake Craigslist Ads</a>\n",
      "<a href=\"?ID=278213980\" target=\"_top\">Is The Following Email a Scam Attempt?</a>\n",
      "<a href=\"?ID=278137387\" target=\"_top\">linked on the cl home page, left side</a>\n",
      "<a href=\"?ID=278137086\" target=\"_top\">Need link, forum, or form for possible scams</a>\n",
      "<a href=\"?ID=278136824\" target=\"_top\">true - they are illegal. Probably a scam</a>\n",
      "<a href=\"?ID=278119628\" target=\"_top\">Thats nice</a>\n",
      "<a href=\"?ID=278119333\" target=\"_top\">scam found</a>\n",
      "<a href=\"?ID=278032675\" target=\"_top\">I see some of these in Gigs.</a>\n",
      "<a href=\"?ID=278032150\" target=\"_top\">very similiar job posting, obvious scam, over &amp;</a>\n",
      "<a href=\"?ID=278011712\" target=\"_top\">Wondering?</a>\n",
      "<a href=\"?ID=277992201\" target=\"_top\">Please lower removal threshold in Sporting goods</a>\n",
      "<a href=\"?ID=277915674\" target=\"_top\">Productive dialog among peanuts is irrelevant.</a>\n",
      "<a href=\"?ID=277863977\" target=\"_top\">That's their job. APPLAUSE for doing your job?</a>\n",
      "<a href=\"?ID=277834001\" target=\"_top\">Have you thought this through?</a>\n",
      "<a href=\"?ID=277613121\" target=\"_top\">Text &amp;PayPal Scams</a>\n",
      "<a href=\"?ID=277578294\" target=\"_top\">LOL</a>\n",
      "<a href=\"?ID=277569345\" target=\"_top\">That's an interesting thought.</a>\n",
      "<a href=\"?ID=277523313\" target=\"_top\">CL DOES use automated phone verification</a>\n",
      "<a href=\"?ID=277469274\" target=\"_top\">Phone verification would still help on balance</a>\n",
      "<a href=\"?ID=277465293\" target=\"_top\">I don't understand, or maybe I was unclear</a>\n",
      "<a href=\"?ID=277461735\" target=\"_top\">If the contact is via CL email relay,</a>\n",
      "<a href=\"?ID=277457265\" target=\"_top\">What phone verification achived so far</a>\n",
      "<a href=\"?ID=277456795\" target=\"_top\">Personals sections have many fake/bot/scam p</a>\n",
      "<a href=\"?ID=277449425\" target=\"_top\">PLZ reduce fake/bot/scam posts w/ verified phone</a>\n",
      "<a href=\"?ID=277361361\" target=\"_top\">P.S. \"spamming\" includes MO/check scam attempts §</a>\n",
      "<a href=\"?ID=277277639\" target=\"_top\">$700 scammed by contractor service</a>\n",
      "<a href=\"?ID=277265132\" target=\"_top\">Scam post removal</a>\n",
      "<a href=\"?ID=277197398\" target=\"_top\">one sort of scam</a>\n",
      "<a href=\"?ID=277192720\" target=\"_top\">flagging does not work to control scam</a>\n",
      "<a href=\"?ID=277060561\" target=\"_top\">Your safety is your own responsibility</a>\n",
      "<a href=\"?ID=277040908\" target=\"_top\">Scammers have been around since the dawn</a>\n",
      "<a href=\"?ID=277040674\" target=\"_top\">Fraud</a>\n",
      "<a href=\"?ID=277039721\" target=\"_top\">Fraudulent posts</a>\n",
      "<a href=\"?ID=277034794\" target=\"_top\">My post about the death of the DMA</a>\n",
      "<a href=\"?ID=276995633\" target=\"_top\">Since only readers read or reply to the ads,</a>\n",
      "<a href=\"?ID=276990744\" target=\"_top\">Are you flagging those scam ads? §</a>\n",
      "<a href=\"?ID=276935023\" target=\"_top\">Why you are not getting any response</a>\n",
      "<a href=\"?ID=276929259\" target=\"_top\">Flag it and forget it!  Anytime that you see an</a>\n",
      "<a href=\"?ID=276878581\" target=\"_top\">Because its a scam</a>\n",
      "<a href=\"?ID=276872265\" target=\"_top\">You should send me a check too.</a>\n",
      "<a href=\"?ID=276871689\" target=\"_top\">Unfortunately, you didn't heed the</a>\n",
      "<a href=\"?ID=276844450\" target=\"_top\">As long as someone</a>\n",
      "<a href=\"?ID=276804019\" target=\"_top\">Thwarting the Scam Spam</a>\n",
      "<a href=\"?ID=276776930\" target=\"_top\">Maybe a designation for</a>\n",
      "<a href=\"?ID=276764055\" target=\"_top\">Did you come to this forum to look for scam</a>\n",
      "<a href=\"?ID=276629238\" target=\"_top\">Did you come to this forum to look for scam</a>\n",
      "<a href=\"?ID=276545827\" target=\"_top\">text for HH... PT1of2</a>\n",
      "<a href=\"?ID=276529819\" target=\"_top\">Rental Scam - Please Remove</a>\n",
      "<a href=\"?ID=276526281\" target=\"_top\">house rental scam</a>\n",
      "<a href=\"?ID=276505442\" target=\"_top\">More of a scam initself than a threat.</a>\n",
      "<a href=\"?ID=276502721\" target=\"_top\">To the moderators of seattle CL</a>\n",
      "<a href=\"?ID=276437573\" target=\"_top\">How would staff be able to do that, other</a>\n",
      "<a href=\"?ID=276426398\" target=\"_top\">Fuck Uber in the Ass</a>\n",
      "<a href=\"?ID=276420629\" target=\"_top\">Professional Craigslist Posters</a>\n",
      "<a href=\"?ID=276407345\" target=\"_top\">Welcome to craigslist!</a>\n",
      "<a href=\"?ID=276386158\" target=\"_top\">Yes, various</a>\n",
      "<a href=\"?ID=276310210\" target=\"_top\">You can protect yourself by</a>\n",
      "<a href=\"?ID=276303747\" target=\"_top\">Scammers</a>\n",
      "<a href=\"?ID=276249523\" target=\"_top\">make it so you need to log in to reply..</a>\n",
      "<a href=\"?ID=276192366\" target=\"_top\">AGREE!</a>\n",
      "<a href=\"?ID=276176747\" target=\"_top\">I don't think paid ads are flagged off  - ever.</a>\n",
      "<a href=\"?ID=276077070\" target=\"_top\">re: Text Scams</a>\n",
      "<a href=\"?ID=276067843\" target=\"_top\">People who want to sell items list location.</a>\n",
      "<a href=\"?ID=275928885\" target=\"_top\">No. The feedback forum is not for</a>\n",
      "<a href=\"?ID=275928832\" target=\"_top\">Oh Snap, a scam.  Must be reportable to FeFo §</a>\n",
      "<a href=\"?ID=275919285\" target=\"_top\">Actually, better advice would be</a>\n",
      "<a href=\"?ID=275889095\" target=\"_top\">Since it takes many, many unique flags to</a>\n",
      "<a href=\"?ID=275865402\" target=\"_top\">New Scam Suspected</a>\n",
      "<a href=\"?ID=275837569\" target=\"_top\">I thought i saw that</a>\n",
      "<a href=\"?ID=275724543\" target=\"_top\">Obvious scams are</a>\n",
      "<a href=\"?ID=275676212\" target=\"_top\">there is what CL says it is for, and then there</a>\n",
      "<a href=\"?ID=275669336\" target=\"_top\">to dangerous</a>\n",
      "<a href=\"?ID=275647632\" target=\"_top\">Maybe Craigslist is sending you a message.</a>\n",
      "<a href=\"?ID=275641496\" target=\"_top\">car and truck mileage search issue</a>\n",
      "<a href=\"?ID=275614165\" target=\"_top\">Two men and a truck for $50 per hr?????</a>\n",
      "<a href=\"?ID=275590408\" target=\"_top\">i was</a>\n",
      "<a href=\"?ID=275589800\" target=\"_top\">I have yet to see an ad flagged out of</a>\n",
      "<a href=\"?ID=275588265\" target=\"_top\">Continued and unchecked abuse</a>\n",
      "<a href=\"?ID=275579663\" target=\"_top\">Casual Encounters</a>\n",
      "<a href=\"?ID=275575701\" target=\"_top\">What did the first email say?</a>\n"
     ]
    }
   ],
   "source": [
    "for r in result_list:\n",
    "    print(r.find('a'))"
   ]
  },
  {
   "cell_type": "code",
   "execution_count": null,
   "metadata": {
    "collapsed": true
   },
   "outputs": [],
   "source": []
  },
  {
   "cell_type": "markdown",
   "metadata": {},
   "source": [
    "# Scratchpad"
   ]
  },
  {
   "cell_type": "code",
   "execution_count": 11,
   "metadata": {
    "collapsed": false
   },
   "outputs": [],
   "source": [
    "r = requests.get('https://forums.craigslist.org/?act=searchFrameMaker&SQ=scam%2C+scams%2C+scamming&forumID=8')"
   ]
  },
  {
   "cell_type": "code",
   "execution_count": 14,
   "metadata": {
    "collapsed": false
   },
   "outputs": [],
   "source": [
    "s1 = BeautifulSoup(r.text)"
   ]
  },
  {
   "cell_type": "code",
   "execution_count": 15,
   "metadata": {
    "collapsed": false
   },
   "outputs": [
    {
     "data": {
      "text/plain": [
       "<!DOCTYPE HTML PUBLIC \"-//W3C//DTD HTML 4.01 Frameset//EN\" \"http://www.w3.org/TR/html4/frameset.dtd\">\n",
       "<html>\n",
       "<head>\n",
       "<title>cl - feedback - forums - craigslist</title>\n",
       "<script src=\"//www.craigslist.org/js/jquery-1.11.3.min.js?v=80826eb702c0268c524f4431244c9556\" type=\"text/javascript\"></script>\n",
       "<script src=\"//www.craigslist.org/js/general-concat.min.js?v=f69d411b2b700284dd519993fdf5e4b9\" type=\"text/javascript\"></script>\n",
       "<script src=\"//www.craigslist.org/js/forums.min.js?v=1286806026d0667c8902c0826a2c0cbc\" type=\"text/javascript\"></script>\n",
       "<!--[if lt IE 9]>\n",
       "<script src=\"//www.craigslist.org/js/html5shiv.min.js?v=096822b653643ed1af3136947e4ea79a\" type=\"text/javascript\" ></script>\n",
       "\n",
       "<script src=\"//www.craigslist.org/js/respond-fork.min.js?v=d7e1cb0d97ee0c0c9d84a7d4f1d03469\" type=\"text/javascript\" ></script>\n",
       "\n",
       "<![endif]-->\n",
       "<!--[if lte IE 7]>\n",
       "<script src=\"//www.craigslist.org/js/json2.min.js?v=178d4ad319e0e0b4a451b15e49b71bec\" type=\"text/javascript\" ></script>\n",
       "\n",
       "<![endif]-->\n",
       "</head>\n",
       "<frameset rows=\"50,*\">\n",
       "<frame id=\"top\" name=\"top\" scrolling=\"no\" src=\"?act=top&amp;forumID=8&amp;SQ=scam%2C%20scams%2C%20scamming\"/>\n",
       "<frameset cols=\"55%,45%\">\n",
       "<frame id=\"L\" name=\"L\" src=\"?act=RSR&amp;forumID=8&amp;SQ=scam%2C%20scams%2C%20scamming\"/>\n",
       "<frame id=\"R\" name=\"R\" src=\"?act=welcome&amp;forumID=8\"/>\n",
       "</frameset>\n",
       "</frameset>\n",
       "</html>"
      ]
     },
     "execution_count": 15,
     "metadata": {},
     "output_type": "execute_result"
    }
   ],
   "source": [
    "s1"
   ]
  },
  {
   "cell_type": "code",
   "execution_count": 81,
   "metadata": {
    "collapsed": false
   },
   "outputs": [
    {
     "data": {
      "text/plain": [
       "<article class=\"searchresult normal\">\n",
       "<header class=\"metadata\"><span class=\"area\"><span class=\"area\" title=\"jackson, TN\">jxt</span></span> <span class=\"title\"><a href=\"?ID=275575701\" target=\"_top\">What did the first email say?</a></span> &lt; <span class=\"handle hnd\">MyThreeCents</span> &gt; <span class=\"date\">2016-10-15 19:39</span></header>\n",
       "<p class=\"body\">If this is the 41st person trying to scam you....assess each one, there is usually something they have in common from the way they start off. It's automated and then once yu reply they know they have a live one....learn not to take the bait.</p>\n",
       "</article>"
      ]
     },
     "execution_count": 81,
     "metadata": {},
     "output_type": "execute_result"
    }
   ],
   "source": [
    "r"
   ]
  },
  {
   "cell_type": "code",
   "execution_count": null,
   "metadata": {
    "collapsed": true
   },
   "outputs": [],
   "source": []
  },
  {
   "cell_type": "code",
   "execution_count": 82,
   "metadata": {
    "collapsed": true
   },
   "outputs": [],
   "source": [
    "url2 = 'https://forums.craigslist.org/?act=Q&ID=275575701'"
   ]
  },
  {
   "cell_type": "code",
   "execution_count": 83,
   "metadata": {
    "collapsed": true
   },
   "outputs": [],
   "source": [
    "r2=requests.get(url2)\n",
    "s2=BeautifulSoup(r2.text)"
   ]
  },
  {
   "cell_type": "code",
   "execution_count": 84,
   "metadata": {
    "collapsed": false
   },
   "outputs": [
    {
     "data": {
      "text/plain": [
       "<!DOCTYPE html>\n",
       "<html>\n",
       "<head>\n",
       "<title>forums - craigslist</title>\n",
       "<meta content=\"width=device-width,initial-scale=1\" name=\"viewport\"/>\n",
       "<link href=\"//www.craigslist.org/styles/craigslist.css?v=94814967e84c2ff11c6abefe670882db\" media=\"all\" rel=\"stylesheet\" type=\"text/css\"/><link href=\"//www.craigslist.org/styles/forums-common.css?v=52755766f6b3ed3201f29944ac61f07b\" media=\"all\" rel=\"stylesheet\" type=\"text/css\"/>\n",
       "<script src=\"//www.craigslist.org/js/jquery-1.11.3.min.js?v=80826eb702c0268c524f4431244c9556\" type=\"text/javascript\"></script>\n",
       "<script src=\"//www.craigslist.org/js/general-concat.min.js?v=f69d411b2b700284dd519993fdf5e4b9\" type=\"text/javascript\"></script>\n",
       "<script src=\"//www.craigslist.org/js/forums.min.js?v=1286806026d0667c8902c0826a2c0cbc\" type=\"text/javascript\"></script>\n",
       "<!--[if lt IE 9]>\n",
       "<script src=\"//www.craigslist.org/js/html5shiv.min.js?v=096822b653643ed1af3136947e4ea79a\" type=\"text/javascript\" ></script>\n",
       "\n",
       "<script src=\"//www.craigslist.org/js/respond-fork.min.js?v=d7e1cb0d97ee0c0c9d84a7d4f1d03469\" type=\"text/javascript\" ></script>\n",
       "\n",
       "<![endif]-->\n",
       "<!--[if lte IE 7]>\n",
       "<script src=\"//www.craigslist.org/js/json2.min.js?v=178d4ad319e0e0b4a451b15e49b71bec\" type=\"text/javascript\" ></script>\n",
       "\n",
       "<![endif]--></head>\n",
       "<body class=\"classic dayTheme\">\n",
       "<script type=\"text/javascript\"><!--\n",
       "    function C(k){return(document.cookie.match('(^|; )'+k+'=([^;]*)')||0)[2]}\n",
       "    var pagetype, pagemode;\n",
       "    (function(){\n",
       "        var h = document.documentElement;\n",
       "        h.className = h.className.replace('no-js', 'js');\n",
       "        var b = document.body;\n",
       "        var bodyClassList = b.className.split(/\\s+/);;\n",
       "        pagetype = bodyClassList[0]; // dangerous assumption\n",
       "        var fmt = C('cl_fmt');\n",
       "        if ( fmt === 'regular' || fmt === 'mobile' ) {\n",
       "            pagemode = fmt;\n",
       "        } else if (screen.width <= 480) {\n",
       "            pagemode = 'mobile';\n",
       "        } else {\n",
       "            pagemode = 'regular';\n",
       "        }\n",
       "        pagemode = pagemode === 'mobile' ? 'mobile' : 'desktop';\n",
       "        bodyClassList.push(pagemode);\n",
       "        if (C('hidesearch') === '1' && pagemode !== 'mobile') {\n",
       "            bodyClassList.push('hide-search');\n",
       "        }\n",
       "        var width = window.innerWidth || document.documentElement.clientWidth;\n",
       "        if (width > 1000) { bodyClassList.push('w1024'); }\n",
       "        if (typeof window.sectionBase !== 'undefined') {\n",
       "            var mode = (decodeURIComponent(C('cl_tocmode') || '').match(new RegExp(window.sectionBase + ':([^,]+)', 'i')) || {})[1] || window.defaultView;\n",
       "            if (mode) {\n",
       "                bodyClassList.push(mode);\n",
       "            }\n",
       "        }\n",
       "        b.className = bodyClassList.join(' ');\n",
       "    }());\n",
       "--></script>\n",
       "<script type=\"text/javascript\"><!--\n",
       "        var iframe = document.createElement('iframe');\n",
       "        iframe.style.display = 'none';\n",
       "        iframe.src = '//www.' + CL.url.baseDomain + '/static/localstorage.html?v=51a29e41f8e978141e4085ed4a77d170';\n",
       "        document.body.insertBefore(iframe, null);\n",
       "    --></script><div class=\"displaypost\">\n",
       "<div id=\"barDiv\">\n",
       "<a href=\"?act=post&amp;forumID=8&amp;ID=275575701\">reply to this post</a>\n",
       "<a href=\"?act=rate&amp;forumID=8&amp;ID=275575701\">rate</a>\n",
       "<a href=\"?act=flag&amp;forumID=8&amp;ID=275575701\">flag</a></div><br/>\n",
       "<div class=\"normal\">\n",
       "<div id=\"titleLine\">\n",
       "<span><b>What did the first email say?</b></span>\n",
       "<span>&lt; <span class=\"handle hnd\">MyThreeCents</span> &gt;</span>\n",
       "<time>2016-10-15 19:39</time>\n",
       "<br/>\n",
       "<br/>\n",
       "</div>\n",
       "<span class=\"quote\">If this is the 41st person trying to scam you....assess each one, there is usually something they have in common from the way they start off. It's automated and then once yu reply they know they have a live one....learn not to take the bait.</span>\n",
       "<br/>\n",
       "<br/>\n",
       "<a class=\"contextlink\" href=\"https://forums.craigslist.org/?ID=275575701\" target=\"_top\">https://forums.craigslist.org/?ID=275575701</a>\n",
       "</div>\n",
       "</div>\n",
       "<br/>\n",
       "</body>\n",
       "</html>"
      ]
     },
     "execution_count": 84,
     "metadata": {},
     "output_type": "execute_result"
    }
   ],
   "source": [
    "s2"
   ]
  },
  {
   "cell_type": "code",
   "execution_count": 85,
   "metadata": {
    "collapsed": false
   },
   "outputs": [
    {
     "data": {
      "text/plain": [
       "<div class=\"normal\">\n",
       "<div id=\"titleLine\">\n",
       "<span><b>What did the first email say?</b></span>\n",
       "<span>&lt; <span class=\"handle hnd\">MyThreeCents</span> &gt;</span>\n",
       "<time>2016-10-15 19:39</time>\n",
       "<br/>\n",
       "<br/>\n",
       "</div>\n",
       "<span class=\"quote\">If this is the 41st person trying to scam you....assess each one, there is usually something they have in common from the way they start off. It's automated and then once yu reply they know they have a live one....learn not to take the bait.</span>\n",
       "<br/>\n",
       "<br/>\n",
       "<a class=\"contextlink\" href=\"https://forums.craigslist.org/?ID=275575701\" target=\"_top\">https://forums.craigslist.org/?ID=275575701</a>\n",
       "</div>"
      ]
     },
     "execution_count": 85,
     "metadata": {},
     "output_type": "execute_result"
    }
   ],
   "source": [
    "s2.body.find('div', {'class':'normal'})"
   ]
  },
  {
   "cell_type": "code",
   "execution_count": 86,
   "metadata": {
    "collapsed": false
   },
   "outputs": [
    {
     "data": {
      "text/plain": [
       "<article class=\"searchresult normal\">\n",
       "<header class=\"metadata\"><span class=\"area\"><span class=\"area\" title=\"jackson, TN\">jxt</span></span> <span class=\"title\"><a href=\"?ID=275575701\" target=\"_top\">What did the first email say?</a></span> &lt; <span class=\"handle hnd\">MyThreeCents</span> &gt; <span class=\"date\">2016-10-15 19:39</span></header>\n",
       "<p class=\"body\">If this is the 41st person trying to scam you....assess each one, there is usually something they have in common from the way they start off. It's automated and then once yu reply they know they have a live one....learn not to take the bait.</p>\n",
       "</article>"
      ]
     },
     "execution_count": 86,
     "metadata": {},
     "output_type": "execute_result"
    }
   ],
   "source": [
    "r"
   ]
  },
  {
   "cell_type": "code",
   "execution_count": 89,
   "metadata": {
    "collapsed": false
   },
   "outputs": [],
   "source": [
    "r3=requests.get(url2.replace('=Q','=showThread'))\n",
    "s3=BeautifulSoup(r3.text)"
   ]
  },
  {
   "cell_type": "code",
   "execution_count": 121,
   "metadata": {
    "collapsed": false
   },
   "outputs": [
    {
     "data": {
      "text/plain": [
       "<!DOCTYPE html>\n",
       "<html>\n",
       "<head>\n",
       "<title>forums - craigslist</title>\n",
       "<meta content=\"width=device-width,initial-scale=1\" name=\"viewport\"/>\n",
       "<link href=\"//www.craigslist.org/styles/craigslist.css?v=94814967e84c2ff11c6abefe670882db\" media=\"all\" rel=\"stylesheet\" type=\"text/css\"/><link href=\"//www.craigslist.org/styles/forums-common.css?v=52755766f6b3ed3201f29944ac61f07b\" media=\"all\" rel=\"stylesheet\" type=\"text/css\"/>\n",
       "<script src=\"//www.craigslist.org/js/jquery-1.11.3.min.js?v=80826eb702c0268c524f4431244c9556\" type=\"text/javascript\"></script>\n",
       "<script src=\"//www.craigslist.org/js/general-concat.min.js?v=f69d411b2b700284dd519993fdf5e4b9\" type=\"text/javascript\"></script>\n",
       "<script src=\"//www.craigslist.org/js/forums.min.js?v=1286806026d0667c8902c0826a2c0cbc\" type=\"text/javascript\"></script>\n",
       "<!--[if lt IE 9]>\n",
       "<script src=\"//www.craigslist.org/js/html5shiv.min.js?v=096822b653643ed1af3136947e4ea79a\" type=\"text/javascript\" ></script>\n",
       "\n",
       "<script src=\"//www.craigslist.org/js/respond-fork.min.js?v=d7e1cb0d97ee0c0c9d84a7d4f1d03469\" type=\"text/javascript\" ></script>\n",
       "\n",
       "<![endif]-->\n",
       "<!--[if lte IE 7]>\n",
       "<script src=\"//www.craigslist.org/js/json2.min.js?v=178d4ad319e0e0b4a451b15e49b71bec\" type=\"text/javascript\" ></script>\n",
       "\n",
       "<![endif]--></head>\n",
       "<body class=\"classic dayTheme\">\n",
       "<script type=\"text/javascript\"><!--\n",
       "    function C(k){return(document.cookie.match('(^|; )'+k+'=([^;]*)')||0)[2]}\n",
       "    var pagetype, pagemode;\n",
       "    (function(){\n",
       "        var h = document.documentElement;\n",
       "        h.className = h.className.replace('no-js', 'js');\n",
       "        var b = document.body;\n",
       "        var bodyClassList = b.className.split(/\\s+/);;\n",
       "        pagetype = bodyClassList[0]; // dangerous assumption\n",
       "        var fmt = C('cl_fmt');\n",
       "        if ( fmt === 'regular' || fmt === 'mobile' ) {\n",
       "            pagemode = fmt;\n",
       "        } else if (screen.width <= 480) {\n",
       "            pagemode = 'mobile';\n",
       "        } else {\n",
       "            pagemode = 'regular';\n",
       "        }\n",
       "        pagemode = pagemode === 'mobile' ? 'mobile' : 'desktop';\n",
       "        bodyClassList.push(pagemode);\n",
       "        if (C('hidesearch') === '1' && pagemode !== 'mobile') {\n",
       "            bodyClassList.push('hide-search');\n",
       "        }\n",
       "        var width = window.innerWidth || document.documentElement.clientWidth;\n",
       "        if (width > 1000) { bodyClassList.push('w1024'); }\n",
       "        if (typeof window.sectionBase !== 'undefined') {\n",
       "            var mode = (decodeURIComponent(C('cl_tocmode') || '').match(new RegExp(window.sectionBase + ':([^,]+)', 'i')) || {})[1] || window.defaultView;\n",
       "            if (mode) {\n",
       "                bodyClassList.push(mode);\n",
       "            }\n",
       "        }\n",
       "        b.className = bodyClassList.join(' ');\n",
       "    }());\n",
       "--></script>\n",
       "<script type=\"text/javascript\"><!--\n",
       "        var iframe = document.createElement('iframe');\n",
       "        iframe.style.display = 'none';\n",
       "        iframe.src = '//www.' + CL.url.baseDomain + '/static/localstorage.html?v=51a29e41f8e978141e4085ed4a77d170';\n",
       "        document.body.insertBefore(iframe, null);\n",
       "    --></script><p class=\"singlethreadheader\">\n",
       "    post 275575701 is located in thread 137702 of <a href=\"?forumID=8\" target=\"_top\">cl - feedback</a>\n",
       "</p>\n",
       "<div class=\"threads\">\n",
       "<article class=\"thread\"><div class=\"threadline normal first\"> <span class=\"area\" title=\"jackson, TN\">jxt</span> <a class=\"title\" href=\"?act=Q&amp;ID=275566908\" target=\"R\">Website Scam</a> &lt; <span class=\"handle hnd\">liontamer1000</span> &gt; <time>2016-10-15 11:59</time><span class=\"ratings\"><span class=\"minus\">-14</span><span class=\"plus\">+3</span></span> </div><div class=\"threadline normal\"> <span class=\"dotz\"> : . . </span> <a class=\"title\" href=\"?act=Q&amp;ID=275569512\" target=\"R\">staff of CL provide you with easy area to</a> &lt; <span class=\"handle hnd\">cl-VPD</span> &gt; <time>2016-10-15 14:04</time><span class=\"ratings\"><span class=\"minus\">-9</span></span> <span class=\"R\">link</span> </div><div class=\"threadline normal\"> <span class=\"dotz\"> : . .  : . . </span> <a class=\"title\" href=\"?act=Q&amp;ID=275572600\" target=\"R\">It would be nice if CL did something with them.</a> &lt; <span class=\"handle hnd\">But-But-But</span> &gt; <time>2016-10-15 17:00</time><span class=\"ratings\"><span class=\"minus\">-11</span><span class=\"plus\">+5</span></span> </div><div class=\"threadline normal\"> <span class=\"dotz\"> : . .  : . .  : . . </span> <a class=\"title\" href=\"?act=Q&amp;ID=275572839\" target=\"R\">Oh? Didn't read the page, huh?</a> &lt; <span class=\"handle hnd\">cl-VPD</span> &gt; <time>2016-10-15 17:13</time><span class=\"ratings\"><span class=\"minus\">-15</span><span class=\"plus\">+5</span></span> </div><div class=\"threadline normal\"> <span class=\"dotz\"> : . .  : . .  : . .  : . . </span> <a class=\"title\" href=\"?act=Q&amp;ID=275575947\" target=\"R\">Have you been drinking?</a> &lt; <span class=\"handle hnd\">But-But-But</span> &gt; <time>2016-10-15 19:50</time><span class=\"ratings\"><span class=\"minus\">-6</span><span class=\"plus\">+9</span></span> </div><div class=\"threadline normal\"> <span class=\"dotz\"> : . .  : . .  : . .  : . .  : . . </span> <a class=\"title\" href=\"?act=Q&amp;ID=275576027\" target=\"R\">F&amp;S §</a> &lt; <span class=\"handle hnd\">cl-VPD</span> &gt; <time>2016-10-15 19:55</time> </div><div class=\"threadline normal\"> <span class=\"dotz\"> : . .  : . .  : . .  : . .  : . . </span> <a class=\"title\" href=\"?act=Q&amp;ID=275576192\" target=\"R\">YOU can't make excuses for what you don't</a> &lt; <span class=\"handle hnd\">arniflora</span> &gt; <time>2016-10-15 20:03</time><span class=\"ratings\"><span class=\"minus\">-14</span><span class=\"plus\">+1</span></span> </div><div class=\"threadline normal\"> <span class=\"dotz\"> : . .  : . . </span> <a class=\"title\" href=\"?act=Q&amp;ID=275579108\" target=\"R\">Are you as serious as CL staff?</a> &lt; <span class=\"handle hnd\">DNFTT9</span> &gt; <time>2016-10-15 23:44</time><span class=\"ratings\"><span class=\"minus\">-1</span></span> </div><div class=\"threadline normal\"> <span class=\"dotz\"> : . .  : . .  : . . </span> <a class=\"title\" href=\"?act=Q&amp;ID=275579119\" target=\"R\">You've been hand-helded.</a> &lt; <span class=\"handle hnd\">cl-VPD</span> &gt; <time>2016-10-15 23:49</time> </div><div class=\"threadline normal\"> <span class=\"dotz\"> : . .  : . .  : . .  : . . </span> <a class=\"title\" href=\"?act=Q&amp;ID=275579154\" target=\"R\">That question above about you drinking</a> &lt; <span class=\"handle hnd\">DNFTT9</span> &gt; <time>2016-10-16 00:02</time><span class=\"ratings\"><span class=\"minus\">-1</span></span> </div><div class=\"threadline normal\"> <span class=\"dotz\"> : . . </span> <a class=\"title highlight\" href=\"?act=Q&amp;ID=275575701\" target=\"R\">What did the first email say?</a> &lt; <span class=\"handle hnd\">MyThreeCents</span> &gt; <time>2016-10-15 19:39</time> </div></article>\n",
       "</div>\n",
       "</body>\n",
       "</html>"
      ]
     },
     "execution_count": 121,
     "metadata": {},
     "output_type": "execute_result"
    }
   ],
   "source": [
    "s3"
   ]
  },
  {
   "cell_type": "code",
   "execution_count": 123,
   "metadata": {
    "collapsed": false
   },
   "outputs": [],
   "source": [
    "tp=s3.body.find('p', {'class': 'singlethreadheader'})"
   ]
  },
  {
   "cell_type": "code",
   "execution_count": 134,
   "metadata": {
    "collapsed": false
   },
   "outputs": [
    {
     "data": {
      "text/plain": [
       "'137702'"
      ]
     },
     "execution_count": 134,
     "metadata": {},
     "output_type": "execute_result"
    }
   ],
   "source": [
    "re.search('in thread (\\d+) ',tp.text).group(1)"
   ]
  },
  {
   "cell_type": "code",
   "execution_count": 124,
   "metadata": {
    "collapsed": false
   },
   "outputs": [],
   "source": [
    "thread=s3.body.find('div',{'class':'threads'})"
   ]
  },
  {
   "cell_type": "code",
   "execution_count": 127,
   "metadata": {
    "collapsed": false
   },
   "outputs": [],
   "source": [
    "thread.insert(0,tp)"
   ]
  },
  {
   "cell_type": "code",
   "execution_count": 128,
   "metadata": {
    "collapsed": false
   },
   "outputs": [
    {
     "data": {
      "text/plain": [
       "<div class=\"threads\"><p class=\"singlethreadheader\">\n",
       "    post 275575701 is located in thread 137702 of <a href=\"?forumID=8\" target=\"_top\">cl - feedback</a>\n",
       "</p>\n",
       "<article class=\"thread\"><div class=\"threadline normal first\"> <span class=\"area\" title=\"jackson, TN\">jxt</span> <a class=\"title\" href=\"?act=Q&amp;ID=275566908\" target=\"R\">Website Scam</a> &lt; <span class=\"handle hnd\">liontamer1000</span> &gt; <time>2016-10-15 11:59</time><span class=\"ratings\"><span class=\"minus\">-14</span><span class=\"plus\">+3</span></span> </div><div class=\"threadline normal\"> <span class=\"dotz\"> : . . </span> <a class=\"title\" href=\"?act=Q&amp;ID=275569512\" target=\"R\">staff of CL provide you with easy area to</a> &lt; <span class=\"handle hnd\">cl-VPD</span> &gt; <time>2016-10-15 14:04</time><span class=\"ratings\"><span class=\"minus\">-9</span></span> <span class=\"R\">link</span> </div><div class=\"threadline normal\"> <span class=\"dotz\"> : . .  : . . </span> <a class=\"title\" href=\"?act=Q&amp;ID=275572600\" target=\"R\">It would be nice if CL did something with them.</a> &lt; <span class=\"handle hnd\">But-But-But</span> &gt; <time>2016-10-15 17:00</time><span class=\"ratings\"><span class=\"minus\">-11</span><span class=\"plus\">+5</span></span> </div><div class=\"threadline normal\"> <span class=\"dotz\"> : . .  : . .  : . . </span> <a class=\"title\" href=\"?act=Q&amp;ID=275572839\" target=\"R\">Oh? Didn't read the page, huh?</a> &lt; <span class=\"handle hnd\">cl-VPD</span> &gt; <time>2016-10-15 17:13</time><span class=\"ratings\"><span class=\"minus\">-15</span><span class=\"plus\">+5</span></span> </div><div class=\"threadline normal\"> <span class=\"dotz\"> : . .  : . .  : . .  : . . </span> <a class=\"title\" href=\"?act=Q&amp;ID=275575947\" target=\"R\">Have you been drinking?</a> &lt; <span class=\"handle hnd\">But-But-But</span> &gt; <time>2016-10-15 19:50</time><span class=\"ratings\"><span class=\"minus\">-6</span><span class=\"plus\">+9</span></span> </div><div class=\"threadline normal\"> <span class=\"dotz\"> : . .  : . .  : . .  : . .  : . . </span> <a class=\"title\" href=\"?act=Q&amp;ID=275576027\" target=\"R\">F&amp;S §</a> &lt; <span class=\"handle hnd\">cl-VPD</span> &gt; <time>2016-10-15 19:55</time> </div><div class=\"threadline normal\"> <span class=\"dotz\"> : . .  : . .  : . .  : . .  : . . </span> <a class=\"title\" href=\"?act=Q&amp;ID=275576192\" target=\"R\">YOU can't make excuses for what you don't</a> &lt; <span class=\"handle hnd\">arniflora</span> &gt; <time>2016-10-15 20:03</time><span class=\"ratings\"><span class=\"minus\">-14</span><span class=\"plus\">+1</span></span> </div><div class=\"threadline normal\"> <span class=\"dotz\"> : . .  : . . </span> <a class=\"title\" href=\"?act=Q&amp;ID=275579108\" target=\"R\">Are you as serious as CL staff?</a> &lt; <span class=\"handle hnd\">DNFTT9</span> &gt; <time>2016-10-15 23:44</time><span class=\"ratings\"><span class=\"minus\">-1</span></span> </div><div class=\"threadline normal\"> <span class=\"dotz\"> : . .  : . .  : . . </span> <a class=\"title\" href=\"?act=Q&amp;ID=275579119\" target=\"R\">You've been hand-helded.</a> &lt; <span class=\"handle hnd\">cl-VPD</span> &gt; <time>2016-10-15 23:49</time> </div><div class=\"threadline normal\"> <span class=\"dotz\"> : . .  : . .  : . .  : . . </span> <a class=\"title\" href=\"?act=Q&amp;ID=275579154\" target=\"R\">That question above about you drinking</a> &lt; <span class=\"handle hnd\">DNFTT9</span> &gt; <time>2016-10-16 00:02</time><span class=\"ratings\"><span class=\"minus\">-1</span></span> </div><div class=\"threadline normal\"> <span class=\"dotz\"> : . . </span> <a class=\"title highlight\" href=\"?act=Q&amp;ID=275575701\" target=\"R\">What did the first email say?</a> &lt; <span class=\"handle hnd\">MyThreeCents</span> &gt; <time>2016-10-15 19:39</time> </div></article>\n",
       "</div>"
      ]
     },
     "execution_count": 128,
     "metadata": {},
     "output_type": "execute_result"
    }
   ],
   "source": [
    "thread"
   ]
  },
  {
   "cell_type": "code",
   "execution_count": 22,
   "metadata": {
    "collapsed": false
   },
   "outputs": [],
   "source": [
    "r3=requests.get('https://forums.craigslist.org/?act=RSR&forumID=8&resultsPerPage=100&SQ=scam%2C%20scams%2C%20scamming')"
   ]
  },
  {
   "cell_type": "code",
   "execution_count": 23,
   "metadata": {
    "collapsed": true
   },
   "outputs": [],
   "source": [
    "s3=BeautifulSoup(r3.text)"
   ]
  },
  {
   "cell_type": "code",
   "execution_count": 35,
   "metadata": {
    "collapsed": false
   },
   "outputs": [
    {
     "data": {
      "text/plain": [
       "24"
      ]
     },
     "execution_count": 35,
     "metadata": {},
     "output_type": "execute_result"
    }
   ],
   "source": [
    "len(s3.body.findAll('article',{'class': 'searchresult'}))"
   ]
  },
  {
   "cell_type": "markdown",
   "metadata": {},
   "source": [
    "## Reformating the thread view\n",
    "\n",
    "* seems like one `<article class=\"thread\">` element per thread [*CONFIRM*]\n",
    "* each post in the thread is at the same level in a `<div class=\"threadline normal\">` element\n",
    "* the first item in the thread has a `first` class attribute\n"
   ]
  },
  {
   "cell_type": "code",
   "execution_count": 98,
   "metadata": {
    "collapsed": false
   },
   "outputs": [
    {
     "name": "stdout",
     "output_type": "stream",
     "text": [
      "<div class=\"threads\">\n",
      " <article class=\"thread\">\n",
      "  <div class=\"threadline normal first\">\n",
      "   <span class=\"area\" title=\"jackson, TN\">\n",
      "    jxt\n",
      "   </span>\n",
      "   <a class=\"title\" href=\"?act=Q&amp;ID=275566908\" target=\"R\">\n",
      "    Website Scam\n",
      "   </a>\n",
      "   &lt;\n",
      "   <span class=\"handle hnd\">\n",
      "    liontamer1000\n",
      "   </span>\n",
      "   &gt;\n",
      "   <time>\n",
      "    2016-10-15 11:59\n",
      "   </time>\n",
      "   <span class=\"ratings\">\n",
      "    <span class=\"minus\">\n",
      "     -14\n",
      "    </span>\n",
      "    <span class=\"plus\">\n",
      "     +3\n",
      "    </span>\n",
      "   </span>\n",
      "  </div>\n",
      "  <div class=\"threadline normal\">\n",
      "   <span class=\"dotz\">\n",
      "    : . .\n",
      "   </span>\n",
      "   <a class=\"title\" href=\"?act=Q&amp;ID=275569512\" target=\"R\">\n",
      "    staff of CL provide you with easy area to\n",
      "   </a>\n",
      "   &lt;\n",
      "   <spa\n"
     ]
    }
   ],
   "source": [
    "print(s3.body.find('div',{'class':'threads'}).prettify()[:700])"
   ]
  },
  {
   "cell_type": "code",
   "execution_count": 102,
   "metadata": {
    "collapsed": false
   },
   "outputs": [
    {
     "name": "stdout",
     "output_type": "stream",
     "text": [
      "11 posts in this thread\n"
     ]
    }
   ],
   "source": [
    "thread = s3.body.find('div',{'class': 'threads'})\n",
    "posts_in_thread = thread.article.findAll('div',{'class': 'threadline'})\n",
    "print('{} posts in this thread'.format(len(posts_in_thread)))"
   ]
  },
  {
   "cell_type": "code",
   "execution_count": 109,
   "metadata": {
    "collapsed": false
   },
   "outputs": [
    {
     "name": "stdout",
     "output_type": "stream",
     "text": [
      "<div class=\"threadline normal\">\n",
      " <span class=\"dotz\">\n",
      "  : . .  : . .  : . .  : . .  : . .\n",
      " </span>\n",
      " <a class=\"title\" href=\"?act=Q&amp;ID=275576027\" target=\"R\">\n",
      "  F&amp;S §\n",
      " </a>\n",
      " &lt;\n",
      " <span class=\"handle hnd\">\n",
      "  cl-VPD\n",
      " </span>\n",
      " &gt;\n",
      " <time>\n",
      "  2016-10-15 19:55\n",
      " </time>\n",
      "</div>\n",
      "\n"
     ]
    }
   ],
   "source": [
    "print(posts_in_thread[5].prettify())"
   ]
  },
  {
   "cell_type": "code",
   "execution_count": 115,
   "metadata": {
    "collapsed": false
   },
   "outputs": [
    {
     "data": {
      "text/plain": [
       "5"
      ]
     },
     "execution_count": 115,
     "metadata": {},
     "output_type": "execute_result"
    }
   ],
   "source": [
    "level=posts_in_thread[5].find('span',{'class':'dotz'}).text.count(':')\n",
    "level"
   ]
  },
  {
   "cell_type": "code",
   "execution_count": null,
   "metadata": {
    "collapsed": true
   },
   "outputs": [],
   "source": []
  }
 ],
 "metadata": {
  "kernelspec": {
   "display_name": "Python 3",
   "language": "python",
   "name": "python3"
  },
  "language_info": {
   "codemirror_mode": {
    "name": "ipython",
    "version": 3
   },
   "file_extension": ".py",
   "mimetype": "text/x-python",
   "name": "python",
   "nbconvert_exporter": "python",
   "pygments_lexer": "ipython3",
   "version": "3.4.4"
  },
  "nav_menu": {},
  "toc": {
   "navigate_menu": true,
   "number_sections": true,
   "sideBar": true,
   "threshold": 6,
   "toc_cell": false,
   "toc_section_display": "block",
   "toc_window_display": false
  }
 },
 "nbformat": 4,
 "nbformat_minor": 0
}
